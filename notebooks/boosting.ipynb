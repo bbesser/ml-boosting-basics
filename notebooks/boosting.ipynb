{
 "cells": [
  {
   "cell_type": "markdown",
   "metadata": {},
   "source": [
    "# Boosting für Machine Learning\n",
    "\n",
    "Wir beschäftigen uns mit den grundlegenden Varianten des sogenannten _Boostings_.\n",
    "Dabei legen wir unser Augenmerk auf Boosting für die Klassifikation.\n",
    "Insbesondere klassifizieren wir Reden von deutschen Politikern, d.h. aus einem gegebenen Redetext ermitteln wir wer diese Rede hielt.\n",
    "(Diese Problemstellung war bereits Thema im den Übungen des [codecentric.AI](https://www.codecentric.de/kuenstliche-intelligenz/) Bootcamp zum Thema [Natural Language Processing](https://www.youtube.com/watch?v=GmLsb-o7hvM).)\n",
    "\n",
    "_Angenommen für unser Problem steht ein schlechter Klassifikator L zur Verfügung._\n",
    "_Wie können wir aus K einen guten Klassifikator L erzeugen?_\n",
    "\n",
    "Unter einem schlechten Klassifikator verstehen wir einen Klassifikator mit schlechter Vorhersagekraft, d.h. er macht viele Fehler.\n",
    "(Die Theorie erlaubt sogar so viele Fehler, dass die Kraft nur wenig besser als zufälliges Raten ist!)\n",
    "Der neue Klassifikator L wird keine abgewandelte Form von K sein, sondern L besteht aus mehreren geschickt kombinierten Instanzen von K.\n",
    "Daher bezeichnet man L auch als _Ensemble_.\n",
    "\n",
    "Ensembles lassen sich für unterschiedliche zugrunde liegende Typen von Klassifikatoren erstellen.\n",
    "Hier beschränken wir uns auf den Fall, dass K ein einfacher [Entscheidungsbaum-Klassifikator](https://en.wikipedia.org/wiki/Decision_tree_learning) ist.\n",
    "Die Klassifikation des Ensembles L ergibt sich aus den individuellen Klassifikationen der beteiligten Entscheidungsbäume."
   ]
  },
  {
   "cell_type": "markdown",
   "metadata": {},
   "source": [
    "## Daten laden\n",
    "\n",
    "Werfen wir zuerst einen Blick auf die Daten.\n",
    "Wir verwenden den von Barbaresi und Adrien bereitgestellten Datensatz [1], der unter der URL [2] verfügbar ist.\n",
    "\n",
    "[1] Barbaresi, Adrien (2018). \"A corpus of German political speeches from the 21st century\", Proceedings of the Eleventh International Conference on Language Resources and Evaluation (LREC 2018), European Language Resources Association (ELRA), pp. 792–797.\n",
    "\n",
    "[2] http://purl.org/corpus/german-speeches\n",
    "\n",
    "Hier ein Einblick in wenige zufällig ausgewählte Reden."
   ]
  },
  {
   "cell_type": "code",
   "execution_count": 1,
   "metadata": {},
   "outputs": [
    {
     "data": {
      "text/html": [
       "<div>\n",
       "<style scoped>\n",
       "    .dataframe tbody tr th:only-of-type {\n",
       "        vertical-align: middle;\n",
       "    }\n",
       "\n",
       "    .dataframe tbody tr th {\n",
       "        vertical-align: top;\n",
       "    }\n",
       "\n",
       "    .dataframe thead th {\n",
       "        text-align: right;\n",
       "    }\n",
       "</style>\n",
       "<table border=\"1\" class=\"dataframe\">\n",
       "  <thead>\n",
       "    <tr style=\"text-align: right;\">\n",
       "      <th></th>\n",
       "      <th>person</th>\n",
       "      <th>speech</th>\n",
       "    </tr>\n",
       "  </thead>\n",
       "  <tbody>\n",
       "    <tr>\n",
       "      <th>1973</th>\n",
       "      <td>Angela Merkel</td>\n",
       "      <td>Liebe Kolleginnen und Kollegen aus dem Deutsch...</td>\n",
       "    </tr>\n",
       "    <tr>\n",
       "      <th>616</th>\n",
       "      <td>Gerhard Schröder</td>\n",
       "      <td>Zunächst bedanke ich mich sehr herzlich im Nam...</td>\n",
       "    </tr>\n",
       "    <tr>\n",
       "      <th>2552</th>\n",
       "      <td>Monika Grütters</td>\n",
       "      <td>In ihrer Rede sagte Monika Grütters \"Dass die ...</td>\n",
       "    </tr>\n",
       "    <tr>\n",
       "      <th>2225</th>\n",
       "      <td>Angela Merkel</td>\n",
       "      <td>Bei drängenden politischen Fragen ist es das e...</td>\n",
       "    </tr>\n",
       "    <tr>\n",
       "      <th>2309</th>\n",
       "      <td>Monika Grütters</td>\n",
       "      <td>\"Wir brauchen experimentierfreudige Künstler u...</td>\n",
       "    </tr>\n",
       "  </tbody>\n",
       "</table>\n",
       "</div>"
      ],
      "text/plain": [
       "                person                                             speech\n",
       "1973     Angela Merkel  Liebe Kolleginnen und Kollegen aus dem Deutsch...\n",
       "616   Gerhard Schröder  Zunächst bedanke ich mich sehr herzlich im Nam...\n",
       "2552   Monika Grütters  In ihrer Rede sagte Monika Grütters \"Dass die ...\n",
       "2225     Angela Merkel  Bei drängenden politischen Fragen ist es das e...\n",
       "2309   Monika Grütters  \"Wir brauchen experimentierfreudige Künstler u..."
      ]
     },
     "metadata": {},
     "output_type": "display_data"
    }
   ],
   "source": [
    "%run define_load_data_functions.ipynb\n",
    "\n",
    "df = load_data()\n",
    "\n",
    "display(df.sample(n=len(df)).head())"
   ]
  },
  {
   "cell_type": "markdown",
   "metadata": {},
   "source": [
    "Im Datensatz ist Angela Merkel mit der weitaus stärksten Anzahl von Reden vertreten."
   ]
  },
  {
   "cell_type": "code",
   "execution_count": 2,
   "metadata": {
    "autoscroll": false,
    "ein.hycell": false,
    "ein.tags": "worksheet-0",
    "slideshow": {
     "slide_type": "-"
    }
   },
   "outputs": [
    {
     "data": {
      "text/plain": [
       "Angela Merkel              1125\n",
       "Gerhard Schröder            418\n",
       "Bernd Neumann               323\n",
       "Monika Grütters             245\n",
       "Christina Weiss             203\n",
       "k.A.                         88\n",
       "Michael Naumann              61\n",
       "Julian Nida-Rümelin          47\n",
       "Thomas de Maizière           43\n",
       "Hans Martin Bury             42\n",
       "Joschka Fischer              31\n",
       "Rolf Schwanitz               24\n",
       "Frank-Walter Steinmeier       7\n",
       "Andere                        4\n",
       "Jullian Nida-Rümelin          1\n",
       "Name: person, dtype: int64"
      ]
     },
     "metadata": {},
     "output_type": "display_data"
    }
   ],
   "source": [
    "speech_counts = df.person.value_counts()\n",
    "\n",
    "display(speech_counts)"
   ]
  },
  {
   "cell_type": "markdown",
   "metadata": {},
   "source": [
    "Wir beschränken uns auf die binäre Klassifikation, d.h. wir unterscheiden nur zwischen zwei Klassen von Personen.\n",
    "Um auf ausgewogenen Daten zu arbeiten wählen wir die Klassen _Angela Merkel_ und _Nicht Angela Merkel (Andere)_.\n",
    "Dazu vernachlässigen wir zuerst alle Personen, die mit nur wenigen Reden vertreten sind."
   ]
  },
  {
   "cell_type": "code",
   "execution_count": 3,
   "metadata": {},
   "outputs": [
    {
     "data": {
      "text/plain": [
       "Angela Merkel       1125\n",
       "Gerhard Schröder     418\n",
       "Bernd Neumann        323\n",
       "Monika Grütters      245\n",
       "Christina Weiss      203\n",
       "Name: person, dtype: int64"
      ]
     },
     "metadata": {},
     "output_type": "display_data"
    }
   ],
   "source": [
    "MIN_NUM_SPEECHES = 100\n",
    "belowThreshold = lambda name: speech_counts[name] < MIN_NUM_SPEECHES\n",
    "\n",
    "dropped = filter(belowThreshold, speech_counts.index.tolist())\n",
    "df.drop(df[df.person.isin(dropped)].index, inplace=True)\n",
    "\n",
    "display(df.person.value_counts())"
   ]
  },
  {
   "cell_type": "markdown",
   "metadata": {},
   "source": [
    "Dann fassen wir alle verbleibenden Personen zur Klasse _Andere_ zusammen."
   ]
  },
  {
   "cell_type": "code",
   "execution_count": 4,
   "metadata": {},
   "outputs": [
    {
     "data": {
      "text/plain": [
       "Andere           1189\n",
       "Angela Merkel    1125\n",
       "Name: person, dtype: int64"
      ]
     },
     "metadata": {},
     "output_type": "display_data"
    }
   ],
   "source": [
    "df.loc[df['person'] != \"Angela Merkel\", ['person']] = 'Andere'\n",
    "\n",
    "display(df.person.value_counts())"
   ]
  },
  {
   "cell_type": "markdown",
   "metadata": {},
   "source": [
    "## Daten vorverarbeiten\n",
    "\n",
    "Es folgt eine Vorverarbeitung der Reden mit Hilfe der NLP-Bibliothek [spaCy](https://spacy.io/).\n",
    "In diesem Schritt zerlegen wir jede Rede in ihre (durch Whitespace getrennten) Bestandteile, die sogenannten _Tokens_.\n",
    "In dem Zuge entfernen wir Tokens mit geringer Information, wie z.B. Interpunktion und Stoppwörter (\"und\", \"der\", \"die\", \"das\", ...).\n",
    "Außerdem überführen wir jedes Token in seine Grundform, das sogenannte _Lemma_ (z.B. \"angekündigt\" -> \"ankündigen\")."
   ]
  },
  {
   "cell_type": "code",
   "execution_count": 5,
   "metadata": {
    "autoscroll": false,
    "ein.hycell": false,
    "ein.tags": "worksheet-0",
    "slideshow": {
     "slide_type": "-"
    }
   },
   "outputs": [
    {
     "data": {
      "text/html": [
       "<div>\n",
       "<style scoped>\n",
       "    .dataframe tbody tr th:only-of-type {\n",
       "        vertical-align: middle;\n",
       "    }\n",
       "\n",
       "    .dataframe tbody tr th {\n",
       "        vertical-align: top;\n",
       "    }\n",
       "\n",
       "    .dataframe thead th {\n",
       "        text-align: right;\n",
       "    }\n",
       "</style>\n",
       "<table border=\"1\" class=\"dataframe\">\n",
       "  <thead>\n",
       "    <tr style=\"text-align: right;\">\n",
       "      <th></th>\n",
       "      <th>person</th>\n",
       "      <th>speech</th>\n",
       "      <th>tokens</th>\n",
       "      <th>lemmata</th>\n",
       "    </tr>\n",
       "  </thead>\n",
       "  <tbody>\n",
       "    <tr>\n",
       "      <th>0</th>\n",
       "      <td>Andere</td>\n",
       "      <td>es ist angekündigt worden, man sollte im Beruf...</td>\n",
       "      <td>[angekündigt, Beruf, Schauspieler, Politiker, ...</td>\n",
       "      <td>[ankündigen, berufen, schauspielern, Politiker...</td>\n",
       "    </tr>\n",
       "    <tr>\n",
       "      <th>2</th>\n",
       "      <td>Andere</td>\n",
       "      <td>Frage (Peter Hahne): Bevor wir uns über den Au...</td>\n",
       "      <td>[Frage, Peter, Hahne, Bevor, Aufbau, Ost, Arbe...</td>\n",
       "      <td>[Frage, Peter, Hahn, bevor, Aufbau, Ost, Arbei...</td>\n",
       "    </tr>\n",
       "    <tr>\n",
       "      <th>3</th>\n",
       "      <td>Andere</td>\n",
       "      <td>Einen Satz von Ihnen, Herr Dr. Bernotat, habe ...</td>\n",
       "      <td>[Satz, Herr, Dr., Bernotat, aufgeschrieben, Ar...</td>\n",
       "      <td>[Satz, Herr, Dr., Bernotat, aufschreiben, Argu...</td>\n",
       "    </tr>\n",
       "    <tr>\n",
       "      <th>4</th>\n",
       "      <td>Andere</td>\n",
       "      <td>diese Jahresversammlung der Hochschulrektorenk...</td>\n",
       "      <td>[Jahresversammlung, Hochschulrektorenkonferenz...</td>\n",
       "      <td>[Jahresversammlung, Hochschulrektorenkonferenz...</td>\n",
       "    </tr>\n",
       "    <tr>\n",
       "      <th>5</th>\n",
       "      <td>Andere</td>\n",
       "      <td>ich habe nie einen Hehl daraus gemacht, dass i...</td>\n",
       "      <td>[Hehl, Stadt, komme, Amtszeit, Gast, gefühlt, ...</td>\n",
       "      <td>[Hehl, Stadt, kommen, Amtszeit, gasen, fühlen,...</td>\n",
       "    </tr>\n",
       "  </tbody>\n",
       "</table>\n",
       "</div>"
      ],
      "text/plain": [
       "   person                                             speech  \\\n",
       "0  Andere  es ist angekündigt worden, man sollte im Beruf...   \n",
       "2  Andere  Frage (Peter Hahne): Bevor wir uns über den Au...   \n",
       "3  Andere  Einen Satz von Ihnen, Herr Dr. Bernotat, habe ...   \n",
       "4  Andere  diese Jahresversammlung der Hochschulrektorenk...   \n",
       "5  Andere  ich habe nie einen Hehl daraus gemacht, dass i...   \n",
       "\n",
       "                                              tokens  \\\n",
       "0  [angekündigt, Beruf, Schauspieler, Politiker, ...   \n",
       "2  [Frage, Peter, Hahne, Bevor, Aufbau, Ost, Arbe...   \n",
       "3  [Satz, Herr, Dr., Bernotat, aufgeschrieben, Ar...   \n",
       "4  [Jahresversammlung, Hochschulrektorenkonferenz...   \n",
       "5  [Hehl, Stadt, komme, Amtszeit, Gast, gefühlt, ...   \n",
       "\n",
       "                                             lemmata  \n",
       "0  [ankündigen, berufen, schauspielern, Politiker...  \n",
       "2  [Frage, Peter, Hahn, bevor, Aufbau, Ost, Arbei...  \n",
       "3  [Satz, Herr, Dr., Bernotat, aufschreiben, Argu...  \n",
       "4  [Jahresversammlung, Hochschulrektorenkonferenz...  \n",
       "5  [Hehl, Stadt, kommen, Amtszeit, gasen, fühlen,...  "
      ]
     },
     "metadata": {},
     "output_type": "display_data"
    }
   ],
   "source": [
    "%run init_spacy.ipynb\n",
    "%run define_preprocessing.ipynb\n",
    "\n",
    "df = load_cached_or_preprocess(df.speech)\n",
    "\n",
    "display(df.head())"
   ]
  },
  {
   "cell_type": "markdown",
   "metadata": {},
   "source": [
    "Für jede Rede R überführen wir nun die Folge von Lemmata von R in das \"Histogramm\" der Lemmahäufigkeiten von R.\n",
    "Bemerke, dass wir in diesem Schritt die der Reihenfolge Worte vergessen.\n",
    "(Man nennt solch eine vereinfachte Darstellung einer Wortfolge auch _bag of words_, um das Abhandensein von zeitlicher Information zu betonen.)\n",
    "\n",
    "Schauen wir uns ein paar Lemmata und die gewonnene Darstellung einer Rede im Detail an.\n",
    "(Einige Lemmata sind nicht \"perfekt\".\n",
    "Sie enthalten etwa Bindestriche oder liegen in gebeugter Form vor.\n",
    "Hier wird die Unschäfe der Sprache und ihrer Verarbeitung deutlich.\n",
    "Beispielsweise geschieht Lemmatisierung in spaCy nicht durch Anwendung eines Regelwerks, sondern durch neuronale Netze, die natürlich nicht in allen Fällen korrekte Ergebnisse erzielen.)"
   ]
  },
  {
   "cell_type": "code",
   "execution_count": 6,
   "metadata": {
    "autoscroll": false,
    "ein.hycell": false,
    "ein.tags": "worksheet-0",
    "slideshow": {
     "slide_type": "-"
    }
   },
   "outputs": [
    {
     "data": {
      "text/plain": [
       "['gebend',\n",
       " 'Ausgleichsflächen',\n",
       " 'Berührende',\n",
       " 'Integrationsgipfelprozess',\n",
       " 'syrisch',\n",
       " 'Versuchsanstalt',\n",
       " 'Misserfolgen',\n",
       " 'Schwund',\n",
       " 'Herrren',\n",
       " 'Stimmgewalt']"
      ]
     },
     "metadata": {},
     "output_type": "display_data"
    },
    {
     "data": {
      "text/plain": [
       "person                                                     Andere\n",
       "speech          es ist angekündigt worden, man sollte im Beruf...\n",
       "tokens          [angekündigt, Beruf, Schauspieler, Politiker, ...\n",
       "lemmata         [ankündigen, berufen, schauspielern, Politiker...\n",
       "lemma_counts    {26544: 1, 31276: 1, 80792: 1, 96767: 1, 28615...\n",
       "Name: 0, dtype: object"
      ]
     },
     "metadata": {},
     "output_type": "display_data"
    }
   ],
   "source": [
    "%run define_feature_computation.ipynb\n",
    "\n",
    "(lemmata, lemma_index) = compute_index(df[\"lemmata\"])\n",
    "df[\"lemma_counts\"] = count(df[\"lemmata\"], lemma_index)\n",
    "\n",
    "display(lemmata[:10])\n",
    "display(df.iloc[0])"
   ]
  },
  {
   "cell_type": "markdown",
   "metadata": {},
   "source": [
    "## Training\n",
    "\n",
    "Bis hier haben wir aus den Reden die für das Modell-Training benötigten statistischen Informationen extrahiert.\n",
    "Zum Start des Trainings fehlt nur noch die Konvertierung diese Informationen in das benötigte Eingabedatenformat.\n",
    "\n",
    "Zum Training nutzen wir die ML-Bibliothek [scikit-learn](https://scikit-learn.org/stable/).\n",
    "Die eingegebenen Trainingdaten bestehen aus einer Sammlung von sogenannten _Labels_ (eins pro Rede) und sogenannten _Featurevektoren_ (ebenfalls einer pro Rede).\n",
    "In unserem Fall gibt das Label einer Rede R an, welche Person die Rede R hielt (\"Angela Merkel\" oder \"Andere\").\n",
    "Der Feature-Vektor von R kodiert das Histogramm der Lemmahäufigkeiten von R (haben wir oben bereits berechnet).\n",
    "\n",
    "Für die Eingabe in die Algorithmen von scikit-learn werden alle Labels in einen Vektor zusammengefasst.\n",
    "Analog werden alle Featurevektoren zu einer Matrix zusammengefasst.\n",
    "Dafür müssen natürlich alle Featurevektoren die gleiche Länge haben, was wir mit Hilfe der Funktion `dict_to_sparse` erledigen.\n",
    "(Insbesondere gibt diese Funktion eine sogenannte _dünn besetzte Matrix_ aus, in der Einträge mit Wert Null nicht explizit gespeichert werden.\n",
    "Warum?\n",
    "In einer Rede erscheinen bei Weitem nicht alle möglichen Lemmata, folglich enthält jeder Featurevektor viele Nullen.\n",
    "Wir sparen also viel Speicherplatz.)"
   ]
  },
  {
   "cell_type": "code",
   "execution_count": 7,
   "metadata": {
    "autoscroll": false,
    "ein.hycell": false,
    "ein.tags": "worksheet-0",
    "slideshow": {
     "slide_type": "-"
    }
   },
   "outputs": [],
   "source": [
    "%run define_conversion_functions.ipynb\n",
    "\n",
    "feature_vectors = dict_to_sparse(df[\"lemma_counts\"], len(lemma_index))\n",
    "categories = df[\"person\"].astype(\"category\")\n",
    "labels = categories.cat.codes"
   ]
  },
  {
   "cell_type": "markdown",
   "metadata": {},
   "source": [
    "Möge das Training beginnen.\n",
    "Erinnere, dass wir Ensembles von schwachen Klassifizierern erstellen möchten.\n",
    "Als schwachen Klassifizierer wählen wir einen sogenannten _Decision Stump_, d.h. einen Entscheidungsbaum der Tiefe 1."
   ]
  },
  {
   "cell_type": "code",
   "execution_count": 9,
   "metadata": {},
   "outputs": [],
   "source": [
    "def make_decision_stump():\n",
    "    return DecisionTreeClassifier(max_depth=1)"
   ]
  },
  {
   "cell_type": "code",
   "execution_count": 16,
   "metadata": {},
   "outputs": [
    {
     "data": {
      "text/plain": [
       "0.7755395683453238"
      ]
     },
     "metadata": {},
     "output_type": "display_data"
    },
    {
     "data": {
      "image/png": "[encoded data removed]",
      "text/plain": [
       "<Figure size 432x288 with 2 Axes>"
      ]
     },
     "metadata": {
      "needs_background": "light"
     },
     "output_type": "display_data"
    },
    {
     "data": {
      "image/svg+xml": [
       "<?xml version=\"1.0\" encoding=\"UTF-8\" standalone=\"no\"?>\n",
       "<!DOCTYPE svg PUBLIC \"-//W3C//DTD SVG 1.1//EN\"\n",
       " \"http://www.w3.org/Graphics/SVG/1.1/DTD/svg11.dtd\">\n",
       "<!-- Generated by graphviz version 2.38.0 (20140413.2041)\n",
       " -->\n",
       "<!-- Title: Tree Pages: 1 -->\n",
       "<svg width=\"378pt\" height=\"195pt\"\n",
       " viewBox=\"0.00 0.00 378.00 195.00\" xmlns=\"http://www.w3.org/2000/svg\" xmlns:xlink=\"http://www.w3.org/1999/xlink\">\n",
       "<g id=\"graph0\" class=\"graph\" transform=\"scale(1 1) rotate(0) translate(4 191)\">\n",
       "<title>Tree</title>\n",
       "<polygon fill=\"white\" stroke=\"none\" points=\"-4,4 -4,-191 374,-191 374,4 -4,4\"/>\n",
       "<!-- 0 -->\n",
       "<g id=\"node1\" class=\"node\"><title>0</title>\n",
       "<path fill=\"#e58139\" fill-opacity=\"0.054902\" stroke=\"black\" d=\"M261,-187C261,-187 109,-187 109,-187 103,-187 97,-181 97,-175 97,-175 97,-116 97,-116 97,-110 103,-104 109,-104 109,-104 261,-104 261,-104 267,-104 273,-110 273,-116 273,-116 273,-175 273,-175 273,-181 267,-187 261,-187\"/>\n",
       "<text text-anchor=\"middle\" x=\"185\" y=\"-171.8\" font-family=\"Helvetica,sans-Serif\" font-size=\"14.00\">Herzliche &lt;= 0.5</text>\n",
       "<text text-anchor=\"middle\" x=\"185\" y=\"-156.8\" font-family=\"Helvetica,sans-Serif\" font-size=\"14.00\">gini = 0.5</text>\n",
       "<text text-anchor=\"middle\" x=\"185\" y=\"-141.8\" font-family=\"Helvetica,sans-Serif\" font-size=\"14.00\">samples = 100.0%</text>\n",
       "<text text-anchor=\"middle\" x=\"185\" y=\"-126.8\" font-family=\"Helvetica,sans-Serif\" font-size=\"14.00\">value = [0.514, 0.486]</text>\n",
       "<text text-anchor=\"middle\" x=\"185\" y=\"-111.8\" font-family=\"Helvetica,sans-Serif\" font-size=\"14.00\">class = Andere</text>\n",
       "</g>\n",
       "<!-- 1 -->\n",
       "<g id=\"node2\" class=\"node\"><title>1</title>\n",
       "<path fill=\"#e58139\" fill-opacity=\"0.627451\" stroke=\"black\" d=\"M164,-68C164,-68 12,-68 12,-68 6,-68 1.42109e-14,-62 1.42109e-14,-56 1.42109e-14,-56 1.42109e-14,-12 1.42109e-14,-12 1.42109e-14,-6 6,-0 12,-0 12,-0 164,-0 164,-0 170,-0 176,-6 176,-12 176,-12 176,-56 176,-56 176,-62 170,-68 164,-68\"/>\n",
       "<text text-anchor=\"middle\" x=\"88\" y=\"-52.8\" font-family=\"Helvetica,sans-Serif\" font-size=\"14.00\">gini = 0.395</text>\n",
       "<text text-anchor=\"middle\" x=\"88\" y=\"-37.8\" font-family=\"Helvetica,sans-Serif\" font-size=\"14.00\">samples = 63.3%</text>\n",
       "<text text-anchor=\"middle\" x=\"88\" y=\"-22.8\" font-family=\"Helvetica,sans-Serif\" font-size=\"14.00\">value = [0.729, 0.271]</text>\n",
       "<text text-anchor=\"middle\" x=\"88\" y=\"-7.8\" font-family=\"Helvetica,sans-Serif\" font-size=\"14.00\">class = Andere</text>\n",
       "</g>\n",
       "<!-- 0&#45;&gt;1 -->\n",
       "<g id=\"edge1\" class=\"edge\"><title>0&#45;&gt;1</title>\n",
       "<path fill=\"none\" stroke=\"black\" d=\"M148.881,-103.726C140.801,-94.6054 132.23,-84.93 124.149,-75.8078\"/>\n",
       "<polygon fill=\"black\" stroke=\"black\" points=\"126.749,-73.4642 117.498,-68.2996 121.509,-78.1058 126.749,-73.4642\"/>\n",
       "<text text-anchor=\"middle\" x=\"115.988\" y=\"-89.5539\" font-family=\"Helvetica,sans-Serif\" font-size=\"14.00\">True</text>\n",
       "</g>\n",
       "<!-- 2 -->\n",
       "<g id=\"node3\" class=\"node\"><title>2</title>\n",
       "<path fill=\"#399de5\" fill-opacity=\"0.831373\" stroke=\"black\" d=\"M358,-68C358,-68 206,-68 206,-68 200,-68 194,-62 194,-56 194,-56 194,-12 194,-12 194,-6 200,-0 206,-0 206,-0 358,-0 358,-0 364,-0 370,-6 370,-12 370,-12 370,-56 370,-56 370,-62 364,-68 358,-68\"/>\n",
       "<text text-anchor=\"middle\" x=\"282\" y=\"-52.8\" font-family=\"Helvetica,sans-Serif\" font-size=\"14.00\">gini = 0.245</text>\n",
       "<text text-anchor=\"middle\" x=\"282\" y=\"-37.8\" font-family=\"Helvetica,sans-Serif\" font-size=\"14.00\">samples = 36.7%</text>\n",
       "<text text-anchor=\"middle\" x=\"282\" y=\"-22.8\" font-family=\"Helvetica,sans-Serif\" font-size=\"14.00\">value = [0.143, 0.857]</text>\n",
       "<text text-anchor=\"middle\" x=\"282\" y=\"-7.8\" font-family=\"Helvetica,sans-Serif\" font-size=\"14.00\">class = Andere</text>\n",
       "</g>\n",
       "<!-- 0&#45;&gt;2 -->\n",
       "<g id=\"edge2\" class=\"edge\"><title>0&#45;&gt;2</title>\n",
       "<path fill=\"none\" stroke=\"black\" d=\"M221.119,-103.726C229.199,-94.6054 237.77,-84.93 245.851,-75.8078\"/>\n",
       "<polygon fill=\"black\" stroke=\"black\" points=\"248.491,-78.1058 252.502,-68.2996 243.251,-73.4642 248.491,-78.1058\"/>\n",
       "<text text-anchor=\"middle\" x=\"254.012\" y=\"-89.5539\" font-family=\"Helvetica,sans-Serif\" font-size=\"14.00\">False</text>\n",
       "</g>\n",
       "</g>\n",
       "</svg>\n"
      ],
      "text/plain": [
       "<graphviz.files.Source at 0x7f7de1301c50>"
      ]
     },
     "metadata": {},
     "output_type": "display_data"
    }
   ],
   "source": [
    "%run define_plot_functions.ipynb\n",
    "%run define_train_functions.ipynb\n",
    "\n",
    "from sklearn.tree import DecisionTreeClassifier\n",
    "\n",
    "# proportion of test data\n",
    "TRAIN_TEST_RATIO = 0.3\n",
    "\n",
    "classifier = make_decision_stump()\n",
    "\n",
    "(accuracy, confusion) = train_and_test_with(classifier,\n",
    "                                            feature_vectors,\n",
    "                                            labels,\n",
    "                                            test_size=TRAIN_TEST_RATIO)\n",
    "\n",
    "display(accuracy)\n",
    "display_confusion_matrix(confusion, classes = categories.unique())\n",
    "display_decision_tree(classifier)"
   ]
  },
  {
   "cell_type": "markdown",
   "metadata": {},
   "source": [
    "## Boosting"
   ]
  },
  {
   "cell_type": "code",
   "execution_count": null,
   "metadata": {},
   "outputs": [],
   "source": [
    "from sklearn.ensemble import BaggingClassifier\n",
    "\n",
    "BOOST_FACTOR = 20\n",
    "ALL_CORES = -1\n",
    "\n",
    "base = make_decision_stump()\n",
    "classifier = BaggingClassifier(base_estimator=base,\n",
    "                               n_estimators=BOOST_FACTOR,\n",
    "                               n_jobs=ALL_CORES)\n",
    "\n",
    "(accuracy, confusion) = train_and_test_with(classifier,\n",
    "                                            feature_vectors,\n",
    "                                            labels,\n",
    "                                            test_size=TRAIN_TEST_RATIO)\n",
    "\n",
    "display(accuracy)\n",
    "plot_confusion_matrix(confusion, classes=categories.unique())\n",
    "for tree in classifier:\n",
    "    display_decision_tree(tree)"
   ]
  },
  {
   "cell_type": "code",
   "execution_count": null,
   "metadata": {},
   "outputs": [],
   "source": [
    "from sklearn.ensemble import AdaBoostClassifier\n",
    "\n",
    "base = make_decision_stump()\n",
    "classifier = AdaBoostClassifier(base_estimator=base,\n",
    "                                n_estimators=BOOST_FACTOR)\n",
    "\n",
    "(accuracy, confusion) = train_and_test_with(classifier,\n",
    "                                            feature_vectors,\n",
    "                                            labels,\n",
    "                                            test_size=TRAIN_TEST_RATIO)\n",
    "\n",
    "display(accuracy)\n",
    "plot_confusion_matrix(confusion, classes=categories.unique())\n",
    "for tree in classifier:\n",
    "    display_decision_tree(tree)"
   ]
  },
  {
   "cell_type": "code",
   "execution_count": null,
   "metadata": {},
   "outputs": [],
   "source": [
    "from xgboost import XGBClassifier\n",
    "import xgboost\n",
    "\n",
    "base = make_decision_stump()\n",
    "classifier = XGBClassifier(max_depth=1,\n",
    "                           n_estimators=BOOST_FACTOR)\n",
    "\n",
    "(accuracy, confusion) = train_and_test_with(classifier,\n",
    "                                            feature_vectors,\n",
    "                                            labels,\n",
    "                                            test_size=TRAIN_TEST_RATIO)\n",
    "\n",
    "display(accuracy)\n",
    "plot_confusion_matrix(confusion, classes=categories.unique())\n",
    "display(graphviz.Source(xgboost.to_graphviz(classifier)))"
   ]
  },
  {
   "cell_type": "code",
   "execution_count": null,
   "metadata": {},
   "outputs": [],
   "source": []
  }
 ],
 "metadata": {
  "kernelspec": {
   "display_name": "Python 3",
   "language": "python",
   "name": "python3"
  },
  "language_info": {
   "codemirror_mode": {
    "name": "ipython",
    "version": 3
   },
   "file_extension": ".py",
   "mimetype": "text/x-python",
   "name": "python",
   "nbconvert_exporter": "python",
   "pygments_lexer": "ipython3",
   "version": "3.6.7"
  },
  "name": "nlp_basics.ipynb",
  "toc": {
   "base_numbering": 1,
   "nav_menu": {
    "height": "399.533px",
    "width": "431px"
   },
   "number_sections": true,
   "sideBar": true,
   "skip_h1_title": false,
   "title_cell": "Table of Contents",
   "title_sidebar": "Contents",
   "toc_cell": false,
   "toc_position": null,
   "toc_section_display": true,
   "toc_window_display": true
  },
  "varInspector": {
   "cols": {
    "lenName": 16,
    "lenType": 16,
    "lenVar": 40
   },
   "kernels_config": {
    "python": {
     "delete_cmd_postfix": "",
     "delete_cmd_prefix": "del ",
     "library": "var_list.py",
     "varRefreshCmd": "print(var_dic_list())"
    },
    "r": {
     "delete_cmd_postfix": ") ",
     "delete_cmd_prefix": "rm(",
     "library": "var_list.r",
     "varRefreshCmd": "cat(var_dic_list()) "
    }
   },
   "types_to_exclude": [
    "module",
    "function",
    "builtin_function_or_method",
    "instance",
    "_Feature"
   ],
   "window_display": true
  }
 },
 "nbformat": 4,
 "nbformat_minor": 2
}
