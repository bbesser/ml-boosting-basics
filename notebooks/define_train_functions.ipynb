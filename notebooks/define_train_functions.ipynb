{
 "cells": [
  {
   "cell_type": "code",
   "execution_count": null,
   "metadata": {},
   "outputs": [],
   "source": [
    "from sklearn.model_selection import train_test_split\n",
    "from sklearn.metrics import confusion_matrix\n",
    "import numpy as np\n",
    "import pandas as pd\n",
    "\n",
    "def train_and_test_with(classifier, data, labels, test_size):\n",
    "    train_data, test_data, train_labels, test_labels = train_test_split(data, \n",
    "                                                    labels,\n",
    "                                                    test_size=test_size,\n",
    "                                                    stratify=labels)\n",
    "    \n",
    "    classifier.fit(train_data, train_labels)\n",
    "    \n",
    "    predictions = classifier.predict(test_data)\n",
    "    \n",
    "    accuracy = np.mean(predictions == test_labels)\n",
    "    confusion = confusion_matrix(test_labels, predictions)\n",
    "    \n",
    "    return (accuracy, confusion)\n",
    "\n",
    "def train_and_test_repeated(classifier_generator, data, labels, test_size, repetitions):\n",
    "    classifiers = []\n",
    "    accuracies = []\n",
    "    confusion_matrices = []\n",
    "    \n",
    "    for i in range(repetitions):\n",
    "        display(\"Repetition \" + str(i))\n",
    "        classifier = classifier_generator()\n",
    "        (accuracy, confusion) = train_and_test_with(classifier, data, labels, test_size)\n",
    "        classifiers.append(classifier)\n",
    "        accuracies.append(accuracy)\n",
    "        confusion_matrices.append(confusion)\n",
    "\n",
    "    return (classifiers, accuracies, confusion_matrices)\n",
    "\n",
    "\n"
   ]
  }
 ],
 "metadata": {
  "kernelspec": {
   "display_name": "Python 3",
   "language": "python",
   "name": "python3"
  },
  "language_info": {
   "codemirror_mode": {
    "name": "ipython",
    "version": 3
   },
   "file_extension": ".py",
   "mimetype": "text/x-python",
   "name": "python",
   "nbconvert_exporter": "python",
   "pygments_lexer": "ipython3",
   "version": "3.6.7"
  }
 },
 "nbformat": 4,
 "nbformat_minor": 2
}
