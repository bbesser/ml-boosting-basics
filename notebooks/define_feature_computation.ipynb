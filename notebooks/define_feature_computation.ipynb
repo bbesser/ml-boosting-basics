{
 "cells": [
  {
   "cell_type": "code",
   "execution_count": null,
   "metadata": {},
   "outputs": [],
   "source": [
    "from collections import Counter"
   ]
  },
  {
   "cell_type": "code",
   "execution_count": null,
   "metadata": {},
   "outputs": [],
   "source": [
    "def compute_index(feature_vectors):\n",
    "    sets = [set(vector) for vector in feature_vectors]\n",
    "    union = set.union(*sets)\n",
    "    idx_2_feature = [feature for (index, feature) in enumerate(union)]\n",
    "    feature_2_idx = {feature:index for (index, feature) in enumerate(union)}\n",
    "    return (idx_2_feature, feature_2_idx)\n",
    "\n",
    "def bag_of_words(feature_vectors, index):\n",
    "    return feature_vectors.apply(lambda vector: {index[feature]:1 for feature in vector})\n",
    "\n",
    "def count(feature_vectors, index):\n",
    "    return feature_vectors.apply(lambda vector: {index[feature]:count for (feature, count) in Counter(vector).items()})"
   ]
  }
 ],
 "metadata": {
  "kernelspec": {
   "display_name": "Python 3",
   "language": "python",
   "name": "python3"
  },
  "language_info": {
   "codemirror_mode": {
    "name": "ipython",
    "version": 3
   },
   "file_extension": ".py",
   "mimetype": "text/x-python",
   "name": "python",
   "nbconvert_exporter": "python",
   "pygments_lexer": "ipython3",
   "version": "3.6.7"
  }
 },
 "nbformat": 4,
 "nbformat_minor": 2
}
