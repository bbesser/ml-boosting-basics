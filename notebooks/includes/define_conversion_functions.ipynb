{
 "cells": [
  {
   "cell_type": "code",
   "execution_count": null,
   "metadata": {},
   "outputs": [],
   "source": [
    "import scipy.sparse as sparse\n",
    "import itertools"
   ]
  },
  {
   "cell_type": "code",
   "execution_count": null,
   "metadata": {},
   "outputs": [],
   "source": [
    "def dict_to_sparse(list_of_dicts, vocab_size):\n",
    "    index_and_data = [(index, dictionary[index]) for dictionary in list_of_dicts for index in dictionary]\n",
    "    index, data = zip(*index_and_data)\n",
    "    lengths = [len(dictionary) for dictionary in list_of_dicts]\n",
    "    row_pointers = list(itertools.accumulate([0] + lengths))\n",
    "    return sparse.csr_matrix((data, index, row_pointers), shape=(len(list_of_dicts), vocab_size))"
   ]
  }
 ],
 "metadata": {
  "kernelspec": {
   "display_name": "Python 3",
   "language": "python",
   "name": "python3"
  },
  "language_info": {
   "codemirror_mode": {
    "name": "ipython",
    "version": 3
   },
   "file_extension": ".py",
   "mimetype": "text/x-python",
   "name": "python",
   "nbconvert_exporter": "python",
   "pygments_lexer": "ipython3",
   "version": "3.6.7"
  }
 },
 "nbformat": 4,
 "nbformat_minor": 2
}
